{
 "cells": [
  {
   "cell_type": "code",
   "execution_count": 17,
   "metadata": {},
   "outputs": [],
   "source": [
    "# Dependencies and Setup\n",
    "\n",
    "import numpy as np\n",
    "import pandas as pd\n",
    "import matplotlib.pyplot as plt\n",
    "from pathlib import Path\n",
    "import scipy.stats as stats\n",
    "import plotly.express as px"
   ]
  },
  {
   "cell_type": "code",
   "execution_count": 18,
   "metadata": {},
   "outputs": [
    {
     "data": {
      "text/html": [
       "<div>\n",
       "<style scoped>\n",
       "    .dataframe tbody tr th:only-of-type {\n",
       "        vertical-align: middle;\n",
       "    }\n",
       "\n",
       "    .dataframe tbody tr th {\n",
       "        vertical-align: top;\n",
       "    }\n",
       "\n",
       "    .dataframe thead th {\n",
       "        text-align: right;\n",
       "    }\n",
       "</style>\n",
       "<table border=\"1\" class=\"dataframe\">\n",
       "  <thead>\n",
       "    <tr style=\"text-align: right;\">\n",
       "      <th></th>\n",
       "      <th>year</th>\n",
       "      <th>less_than_hs</th>\n",
       "      <th>high_school</th>\n",
       "      <th>some_college</th>\n",
       "      <th>bachelors_degree</th>\n",
       "      <th>advanced_degree</th>\n",
       "      <th>men_less_than_hs</th>\n",
       "      <th>men_high_school</th>\n",
       "      <th>men_some_college</th>\n",
       "      <th>men_bachelors_degree</th>\n",
       "      <th>...</th>\n",
       "      <th>black_women_less_than_hs</th>\n",
       "      <th>black_women_high_school</th>\n",
       "      <th>black_women_some_college</th>\n",
       "      <th>black_women_bachelors_degree</th>\n",
       "      <th>black_women_advanced_degree</th>\n",
       "      <th>hispanic_women_less_than_hs</th>\n",
       "      <th>hispanic_women_high_school</th>\n",
       "      <th>hispanic_women_some_college</th>\n",
       "      <th>hispanic_women_bachelors_degree</th>\n",
       "      <th>hispanic_women_advanced_degree</th>\n",
       "    </tr>\n",
       "  </thead>\n",
       "  <tbody>\n",
       "    <tr>\n",
       "      <th>0</th>\n",
       "      <td>2022</td>\n",
       "      <td>16.52</td>\n",
       "      <td>21.94</td>\n",
       "      <td>24.81</td>\n",
       "      <td>41.60</td>\n",
       "      <td>53.22</td>\n",
       "      <td>17.99</td>\n",
       "      <td>24.08</td>\n",
       "      <td>27.96</td>\n",
       "      <td>49.01</td>\n",
       "      <td>...</td>\n",
       "      <td>13.89</td>\n",
       "      <td>17.83</td>\n",
       "      <td>20.36</td>\n",
       "      <td>29.94</td>\n",
       "      <td>39.41</td>\n",
       "      <td>14.74</td>\n",
       "      <td>18.18</td>\n",
       "      <td>20.64</td>\n",
       "      <td>31.13</td>\n",
       "      <td>40.64</td>\n",
       "    </tr>\n",
       "    <tr>\n",
       "      <th>1</th>\n",
       "      <td>2021</td>\n",
       "      <td>16.74</td>\n",
       "      <td>22.28</td>\n",
       "      <td>24.92</td>\n",
       "      <td>41.32</td>\n",
       "      <td>53.45</td>\n",
       "      <td>18.34</td>\n",
       "      <td>24.36</td>\n",
       "      <td>27.96</td>\n",
       "      <td>47.83</td>\n",
       "      <td>...</td>\n",
       "      <td>13.73</td>\n",
       "      <td>18.30</td>\n",
       "      <td>20.18</td>\n",
       "      <td>29.35</td>\n",
       "      <td>40.07</td>\n",
       "      <td>14.97</td>\n",
       "      <td>18.34</td>\n",
       "      <td>21.14</td>\n",
       "      <td>31.25</td>\n",
       "      <td>42.47</td>\n",
       "    </tr>\n",
       "    <tr>\n",
       "      <th>2</th>\n",
       "      <td>2020</td>\n",
       "      <td>17.02</td>\n",
       "      <td>22.70</td>\n",
       "      <td>25.44</td>\n",
       "      <td>41.65</td>\n",
       "      <td>53.74</td>\n",
       "      <td>18.76</td>\n",
       "      <td>25.09</td>\n",
       "      <td>28.55</td>\n",
       "      <td>48.15</td>\n",
       "      <td>...</td>\n",
       "      <td>13.66</td>\n",
       "      <td>17.93</td>\n",
       "      <td>20.31</td>\n",
       "      <td>31.38</td>\n",
       "      <td>42.44</td>\n",
       "      <td>14.58</td>\n",
       "      <td>18.50</td>\n",
       "      <td>20.69</td>\n",
       "      <td>31.55</td>\n",
       "      <td>44.15</td>\n",
       "    </tr>\n",
       "    <tr>\n",
       "      <th>3</th>\n",
       "      <td>2019</td>\n",
       "      <td>16.11</td>\n",
       "      <td>21.64</td>\n",
       "      <td>24.00</td>\n",
       "      <td>39.61</td>\n",
       "      <td>51.57</td>\n",
       "      <td>17.55</td>\n",
       "      <td>23.99</td>\n",
       "      <td>26.99</td>\n",
       "      <td>45.74</td>\n",
       "      <td>...</td>\n",
       "      <td>13.30</td>\n",
       "      <td>17.18</td>\n",
       "      <td>19.17</td>\n",
       "      <td>30.31</td>\n",
       "      <td>40.42</td>\n",
       "      <td>14.50</td>\n",
       "      <td>17.71</td>\n",
       "      <td>19.69</td>\n",
       "      <td>30.18</td>\n",
       "      <td>42.30</td>\n",
       "    </tr>\n",
       "    <tr>\n",
       "      <th>4</th>\n",
       "      <td>2018</td>\n",
       "      <td>15.94</td>\n",
       "      <td>21.50</td>\n",
       "      <td>23.70</td>\n",
       "      <td>38.87</td>\n",
       "      <td>51.03</td>\n",
       "      <td>17.70</td>\n",
       "      <td>23.72</td>\n",
       "      <td>26.61</td>\n",
       "      <td>44.97</td>\n",
       "      <td>...</td>\n",
       "      <td>12.48</td>\n",
       "      <td>16.81</td>\n",
       "      <td>18.57</td>\n",
       "      <td>30.85</td>\n",
       "      <td>39.64</td>\n",
       "      <td>13.47</td>\n",
       "      <td>17.28</td>\n",
       "      <td>19.29</td>\n",
       "      <td>29.47</td>\n",
       "      <td>39.35</td>\n",
       "    </tr>\n",
       "  </tbody>\n",
       "</table>\n",
       "<p>5 rows × 61 columns</p>\n",
       "</div>"
      ],
      "text/plain": [
       "   year  less_than_hs  high_school  some_college  bachelors_degree  \\\n",
       "0  2022         16.52        21.94         24.81             41.60   \n",
       "1  2021         16.74        22.28         24.92             41.32   \n",
       "2  2020         17.02        22.70         25.44             41.65   \n",
       "3  2019         16.11        21.64         24.00             39.61   \n",
       "4  2018         15.94        21.50         23.70             38.87   \n",
       "\n",
       "   advanced_degree  men_less_than_hs  men_high_school  men_some_college  \\\n",
       "0            53.22             17.99            24.08             27.96   \n",
       "1            53.45             18.34            24.36             27.96   \n",
       "2            53.74             18.76            25.09             28.55   \n",
       "3            51.57             17.55            23.99             26.99   \n",
       "4            51.03             17.70            23.72             26.61   \n",
       "\n",
       "   men_bachelors_degree  ...  black_women_less_than_hs  \\\n",
       "0                 49.01  ...                     13.89   \n",
       "1                 47.83  ...                     13.73   \n",
       "2                 48.15  ...                     13.66   \n",
       "3                 45.74  ...                     13.30   \n",
       "4                 44.97  ...                     12.48   \n",
       "\n",
       "   black_women_high_school  black_women_some_college  \\\n",
       "0                    17.83                     20.36   \n",
       "1                    18.30                     20.18   \n",
       "2                    17.93                     20.31   \n",
       "3                    17.18                     19.17   \n",
       "4                    16.81                     18.57   \n",
       "\n",
       "   black_women_bachelors_degree  black_women_advanced_degree  \\\n",
       "0                         29.94                        39.41   \n",
       "1                         29.35                        40.07   \n",
       "2                         31.38                        42.44   \n",
       "3                         30.31                        40.42   \n",
       "4                         30.85                        39.64   \n",
       "\n",
       "   hispanic_women_less_than_hs  hispanic_women_high_school  \\\n",
       "0                        14.74                       18.18   \n",
       "1                        14.97                       18.34   \n",
       "2                        14.58                       18.50   \n",
       "3                        14.50                       17.71   \n",
       "4                        13.47                       17.28   \n",
       "\n",
       "   hispanic_women_some_college  hispanic_women_bachelors_degree  \\\n",
       "0                        20.64                            31.13   \n",
       "1                        21.14                            31.25   \n",
       "2                        20.69                            31.55   \n",
       "3                        19.69                            30.18   \n",
       "4                        19.29                            29.47   \n",
       "\n",
       "   hispanic_women_advanced_degree  \n",
       "0                           40.64  \n",
       "1                           42.47  \n",
       "2                           44.15  \n",
       "3                           42.30  \n",
       "4                           39.35  \n",
       "\n",
       "[5 rows x 61 columns]"
      ]
     },
     "execution_count": 18,
     "metadata": {},
     "output_type": "execute_result"
    }
   ],
   "source": [
    "#Data Files\n",
    "Wages_by_Education_file = Path(\"wages_by_education.csv\")\n",
    "\n",
    "# Read CSV File\n",
    "df = pd.read_csv (Wages_by_Education_file)\n",
    "df.head()"
   ]
  },
  {
   "cell_type": "code",
   "execution_count": 19,
   "metadata": {},
   "outputs": [
    {
     "name": "stdout",
     "output_type": "stream",
     "text": [
      "<class 'pandas.core.frame.DataFrame'>\n",
      "RangeIndex: 50 entries, 0 to 49\n",
      "Data columns (total 61 columns):\n",
      " #   Column                           Non-Null Count  Dtype  \n",
      "---  ------                           --------------  -----  \n",
      " 0   year                             50 non-null     int64  \n",
      " 1   less_than_hs                     50 non-null     float64\n",
      " 2   high_school                      50 non-null     float64\n",
      " 3   some_college                     50 non-null     float64\n",
      " 4   bachelors_degree                 50 non-null     float64\n",
      " 5   advanced_degree                  50 non-null     float64\n",
      " 6   men_less_than_hs                 50 non-null     float64\n",
      " 7   men_high_school                  50 non-null     float64\n",
      " 8   men_some_college                 50 non-null     float64\n",
      " 9   men_bachelors_degree             50 non-null     float64\n",
      " 10  men_advanced_degree              50 non-null     float64\n",
      " 11  women_less_than_hs               50 non-null     float64\n",
      " 12  women_high_school                50 non-null     float64\n",
      " 13  women_some_college               50 non-null     float64\n",
      " 14  women_bachelors_degree           50 non-null     float64\n",
      " 15  women_advanced_degree            50 non-null     float64\n",
      " 16  white_less_than_hs               50 non-null     float64\n",
      " 17  white_high_school                50 non-null     float64\n",
      " 18  white_some_college               50 non-null     float64\n",
      " 19  white_bachelors_degree           50 non-null     float64\n",
      " 20  white_advanced_degree            50 non-null     float64\n",
      " 21  black_less_than_hs               50 non-null     float64\n",
      " 22  black_high_school                50 non-null     float64\n",
      " 23  black_some_college               50 non-null     float64\n",
      " 24  black_bachelors_degree           50 non-null     float64\n",
      " 25  black_advanced_degree            50 non-null     float64\n",
      " 26  hispanic_less_than_hs            50 non-null     float64\n",
      " 27  hispanic_high_school             50 non-null     float64\n",
      " 28  hispanic_some_college            50 non-null     float64\n",
      " 29  hispanic_bachelors_degree        50 non-null     float64\n",
      " 30  hispanic_advanced_degree         50 non-null     float64\n",
      " 31  white_men_less_than_hs           50 non-null     float64\n",
      " 32  white_men_high_school            50 non-null     float64\n",
      " 33  white_men_some_college           50 non-null     float64\n",
      " 34  white_men_bachelors_degree       50 non-null     float64\n",
      " 35  white_men_advanced_degree        50 non-null     float64\n",
      " 36  black_men_less_than_hs           50 non-null     float64\n",
      " 37  black_men_high_school            50 non-null     float64\n",
      " 38  black_men_some_college           50 non-null     float64\n",
      " 39  black_men_bachelors_degree       50 non-null     float64\n",
      " 40  black_men_advanced_degree        50 non-null     float64\n",
      " 41  hispanic_men_less_than_hs        50 non-null     float64\n",
      " 42  hispanic_men_high_school         50 non-null     float64\n",
      " 43  hispanic_men_some_college        50 non-null     float64\n",
      " 44  hispanic_men_bachelors_degree    50 non-null     float64\n",
      " 45  hispanic_men_advanced_degree     50 non-null     float64\n",
      " 46  white_women_less_than_hs         50 non-null     float64\n",
      " 47  white_women_high_school          50 non-null     float64\n",
      " 48  white_women_some_college         50 non-null     float64\n",
      " 49  white_women_bachelors_degree     50 non-null     float64\n",
      " 50  white_women_advanced_degree      50 non-null     float64\n",
      " 51  black_women_less_than_hs         50 non-null     float64\n",
      " 52  black_women_high_school          50 non-null     float64\n",
      " 53  black_women_some_college         50 non-null     float64\n",
      " 54  black_women_bachelors_degree     50 non-null     float64\n",
      " 55  black_women_advanced_degree      50 non-null     float64\n",
      " 56  hispanic_women_less_than_hs      50 non-null     float64\n",
      " 57  hispanic_women_high_school       50 non-null     float64\n",
      " 58  hispanic_women_some_college      50 non-null     float64\n",
      " 59  hispanic_women_bachelors_degree  50 non-null     float64\n",
      " 60  hispanic_women_advanced_degree   50 non-null     float64\n",
      "dtypes: float64(60), int64(1)\n",
      "memory usage: 24.0 KB\n"
     ]
    }
   ],
   "source": [
    "#Display column info\n",
    "df.info()"
   ]
  },
  {
   "cell_type": "markdown",
   "metadata": {},
   "source": [
    "QUESTION 1 - •\tAre things trending towards females earning as much as males for those with an advanced degree?"
   ]
  },
  {
   "cell_type": "code",
   "execution_count": 22,
   "metadata": {},
   "outputs": [
    {
     "data": {
      "text/html": [
       "<div>\n",
       "<style scoped>\n",
       "    .dataframe tbody tr th:only-of-type {\n",
       "        vertical-align: middle;\n",
       "    }\n",
       "\n",
       "    .dataframe tbody tr th {\n",
       "        vertical-align: top;\n",
       "    }\n",
       "\n",
       "    .dataframe thead th {\n",
       "        text-align: right;\n",
       "    }\n",
       "</style>\n",
       "<table border=\"1\" class=\"dataframe\">\n",
       "  <thead>\n",
       "    <tr style=\"text-align: right;\">\n",
       "      <th></th>\n",
       "      <th>year</th>\n",
       "      <th>men_advanced_degree</th>\n",
       "      <th>women_advanced_degree</th>\n",
       "    </tr>\n",
       "  </thead>\n",
       "  <tbody>\n",
       "    <tr>\n",
       "      <th>0</th>\n",
       "      <td>2022</td>\n",
       "      <td>63.51</td>\n",
       "      <td>44.34</td>\n",
       "    </tr>\n",
       "    <tr>\n",
       "      <th>1</th>\n",
       "      <td>2021</td>\n",
       "      <td>63.52</td>\n",
       "      <td>44.80</td>\n",
       "    </tr>\n",
       "    <tr>\n",
       "      <th>2</th>\n",
       "      <td>2020</td>\n",
       "      <td>62.70</td>\n",
       "      <td>46.04</td>\n",
       "    </tr>\n",
       "    <tr>\n",
       "      <th>3</th>\n",
       "      <td>2019</td>\n",
       "      <td>59.93</td>\n",
       "      <td>44.22</td>\n",
       "    </tr>\n",
       "    <tr>\n",
       "      <th>4</th>\n",
       "      <td>2018</td>\n",
       "      <td>59.73</td>\n",
       "      <td>43.19</td>\n",
       "    </tr>\n",
       "  </tbody>\n",
       "</table>\n",
       "</div>"
      ],
      "text/plain": [
       "   year  men_advanced_degree  women_advanced_degree\n",
       "0  2022                63.51                  44.34\n",
       "1  2021                63.52                  44.80\n",
       "2  2020                62.70                  46.04\n",
       "3  2019                59.93                  44.22\n",
       "4  2018                59.73                  43.19"
      ]
     },
     "execution_count": 22,
     "metadata": {},
     "output_type": "execute_result"
    }
   ],
   "source": [
    "df_gender = df.iloc[:, [0, 10, 15]]\n",
    "df_gender.head()"
   ]
  },
  {
   "cell_type": "code",
   "execution_count": 23,
   "metadata": {},
   "outputs": [
    {
     "data": {
      "text/plain": [
       "Index(['year', 'men_advanced_degree', 'women_advanced_degree'], dtype='object')"
      ]
     },
     "execution_count": 23,
     "metadata": {},
     "output_type": "execute_result"
    }
   ],
   "source": [
    "df_gender.columns"
   ]
  },
  {
   "cell_type": "code",
   "execution_count": 24,
   "metadata": {},
   "outputs": [
    {
     "data": {
      "application/vnd.plotly.v1+json": {
       "config": {
        "plotlyServerURL": "https://plot.ly"
       },
       "data": [
        {
         "hovertemplate": "variable=men_advanced_degree<br>year=%{x}<br>value=%{y}<extra></extra>",
         "legendgroup": "men_advanced_degree",
         "line": {
          "color": "#636efa",
          "dash": "solid"
         },
         "marker": {
          "symbol": "circle"
         },
         "mode": "lines",
         "name": "men_advanced_degree",
         "orientation": "v",
         "showlegend": true,
         "type": "scatter",
         "x": [
          2022,
          2021,
          2020,
          2019,
          2018,
          2017,
          2016,
          2015,
          2014,
          2013,
          2012,
          2011,
          2010,
          2009,
          2008,
          2007,
          2006,
          2005,
          2004,
          2003,
          2002,
          2001,
          2000,
          1999,
          1998,
          1997,
          1996,
          1995,
          1994,
          1993,
          1992,
          1991,
          1990,
          1989,
          1988,
          1987,
          1986,
          1985,
          1984,
          1983,
          1982,
          1981,
          1980,
          1979,
          1978,
          1977,
          1976,
          1975,
          1974,
          1973
         ],
         "xaxis": "x",
         "y": [
          63.51,
          63.52,
          62.7,
          59.93,
          59.73,
          56.77,
          57.71,
          56.32,
          54.63,
          56.35,
          56.26,
          54.15,
          55.87,
          56.35,
          54.06,
          53.61,
          53.5,
          53.29,
          53.92,
          52.49,
          53.17,
          51.54,
          51.48,
          51.52,
          49.41,
          48.47,
          47.89,
          47.93,
          47.61,
          46.08,
          45.58,
          45.38,
          44.6,
          44.02,
          46.35,
          45.58,
          44.72,
          42.75,
          41.3,
          40.53,
          39.95,
          38.72,
          39,
          39.52,
          40.89,
          40.56,
          40.31,
          40.86,
          41.03,
          40.09
         ],
         "yaxis": "y"
        },
        {
         "hovertemplate": "variable=women_advanced_degree<br>year=%{x}<br>value=%{y}<extra></extra>",
         "legendgroup": "women_advanced_degree",
         "line": {
          "color": "#EF553B",
          "dash": "solid"
         },
         "marker": {
          "symbol": "circle"
         },
         "mode": "lines",
         "name": "women_advanced_degree",
         "orientation": "v",
         "showlegend": true,
         "type": "scatter",
         "x": [
          2022,
          2021,
          2020,
          2019,
          2018,
          2017,
          2016,
          2015,
          2014,
          2013,
          2012,
          2011,
          2010,
          2009,
          2008,
          2007,
          2006,
          2005,
          2004,
          2003,
          2002,
          2001,
          2000,
          1999,
          1998,
          1997,
          1996,
          1995,
          1994,
          1993,
          1992,
          1991,
          1990,
          1989,
          1988,
          1987,
          1986,
          1985,
          1984,
          1983,
          1982,
          1981,
          1980,
          1979,
          1978,
          1977,
          1976,
          1975,
          1974,
          1973
         ],
         "xaxis": "x",
         "y": [
          44.34,
          44.8,
          46.04,
          44.22,
          43.19,
          42.75,
          42.17,
          41.16,
          40.34,
          41.03,
          40.83,
          41.18,
          41.73,
          41.8,
          40.9,
          40.68,
          40.46,
          40.39,
          40.32,
          40.38,
          40.55,
          39.94,
          39.36,
          39.36,
          38.56,
          37.8,
          37.61,
          37.21,
          38.13,
          35.48,
          34.82,
          34.11,
          33.14,
          33.54,
          32.97,
          32.69,
          32.03,
          30.9,
          30.55,
          29.65,
          28.81,
          28.51,
          28.47,
          28.83,
          30,
          30.33,
          31.05,
          32.14,
          30.78,
          32.73
         ],
         "yaxis": "y"
        }
       ],
       "layout": {
        "legend": {
         "title": {
          "text": "Gender"
         },
         "tracegroupgap": 0
        },
        "template": {
         "data": {
          "bar": [
           {
            "error_x": {
             "color": "#2a3f5f"
            },
            "error_y": {
             "color": "#2a3f5f"
            },
            "marker": {
             "line": {
              "color": "#E5ECF6",
              "width": 0.5
             },
             "pattern": {
              "fillmode": "overlay",
              "size": 10,
              "solidity": 0.2
             }
            },
            "type": "bar"
           }
          ],
          "barpolar": [
           {
            "marker": {
             "line": {
              "color": "#E5ECF6",
              "width": 0.5
             },
             "pattern": {
              "fillmode": "overlay",
              "size": 10,
              "solidity": 0.2
             }
            },
            "type": "barpolar"
           }
          ],
          "carpet": [
           {
            "aaxis": {
             "endlinecolor": "#2a3f5f",
             "gridcolor": "white",
             "linecolor": "white",
             "minorgridcolor": "white",
             "startlinecolor": "#2a3f5f"
            },
            "baxis": {
             "endlinecolor": "#2a3f5f",
             "gridcolor": "white",
             "linecolor": "white",
             "minorgridcolor": "white",
             "startlinecolor": "#2a3f5f"
            },
            "type": "carpet"
           }
          ],
          "choropleth": [
           {
            "colorbar": {
             "outlinewidth": 0,
             "ticks": ""
            },
            "type": "choropleth"
           }
          ],
          "contour": [
           {
            "colorbar": {
             "outlinewidth": 0,
             "ticks": ""
            },
            "colorscale": [
             [
              0,
              "#0d0887"
             ],
             [
              0.1111111111111111,
              "#46039f"
             ],
             [
              0.2222222222222222,
              "#7201a8"
             ],
             [
              0.3333333333333333,
              "#9c179e"
             ],
             [
              0.4444444444444444,
              "#bd3786"
             ],
             [
              0.5555555555555556,
              "#d8576b"
             ],
             [
              0.6666666666666666,
              "#ed7953"
             ],
             [
              0.7777777777777778,
              "#fb9f3a"
             ],
             [
              0.8888888888888888,
              "#fdca26"
             ],
             [
              1,
              "#f0f921"
             ]
            ],
            "type": "contour"
           }
          ],
          "contourcarpet": [
           {
            "colorbar": {
             "outlinewidth": 0,
             "ticks": ""
            },
            "type": "contourcarpet"
           }
          ],
          "heatmap": [
           {
            "colorbar": {
             "outlinewidth": 0,
             "ticks": ""
            },
            "colorscale": [
             [
              0,
              "#0d0887"
             ],
             [
              0.1111111111111111,
              "#46039f"
             ],
             [
              0.2222222222222222,
              "#7201a8"
             ],
             [
              0.3333333333333333,
              "#9c179e"
             ],
             [
              0.4444444444444444,
              "#bd3786"
             ],
             [
              0.5555555555555556,
              "#d8576b"
             ],
             [
              0.6666666666666666,
              "#ed7953"
             ],
             [
              0.7777777777777778,
              "#fb9f3a"
             ],
             [
              0.8888888888888888,
              "#fdca26"
             ],
             [
              1,
              "#f0f921"
             ]
            ],
            "type": "heatmap"
           }
          ],
          "heatmapgl": [
           {
            "colorbar": {
             "outlinewidth": 0,
             "ticks": ""
            },
            "colorscale": [
             [
              0,
              "#0d0887"
             ],
             [
              0.1111111111111111,
              "#46039f"
             ],
             [
              0.2222222222222222,
              "#7201a8"
             ],
             [
              0.3333333333333333,
              "#9c179e"
             ],
             [
              0.4444444444444444,
              "#bd3786"
             ],
             [
              0.5555555555555556,
              "#d8576b"
             ],
             [
              0.6666666666666666,
              "#ed7953"
             ],
             [
              0.7777777777777778,
              "#fb9f3a"
             ],
             [
              0.8888888888888888,
              "#fdca26"
             ],
             [
              1,
              "#f0f921"
             ]
            ],
            "type": "heatmapgl"
           }
          ],
          "histogram": [
           {
            "marker": {
             "pattern": {
              "fillmode": "overlay",
              "size": 10,
              "solidity": 0.2
             }
            },
            "type": "histogram"
           }
          ],
          "histogram2d": [
           {
            "colorbar": {
             "outlinewidth": 0,
             "ticks": ""
            },
            "colorscale": [
             [
              0,
              "#0d0887"
             ],
             [
              0.1111111111111111,
              "#46039f"
             ],
             [
              0.2222222222222222,
              "#7201a8"
             ],
             [
              0.3333333333333333,
              "#9c179e"
             ],
             [
              0.4444444444444444,
              "#bd3786"
             ],
             [
              0.5555555555555556,
              "#d8576b"
             ],
             [
              0.6666666666666666,
              "#ed7953"
             ],
             [
              0.7777777777777778,
              "#fb9f3a"
             ],
             [
              0.8888888888888888,
              "#fdca26"
             ],
             [
              1,
              "#f0f921"
             ]
            ],
            "type": "histogram2d"
           }
          ],
          "histogram2dcontour": [
           {
            "colorbar": {
             "outlinewidth": 0,
             "ticks": ""
            },
            "colorscale": [
             [
              0,
              "#0d0887"
             ],
             [
              0.1111111111111111,
              "#46039f"
             ],
             [
              0.2222222222222222,
              "#7201a8"
             ],
             [
              0.3333333333333333,
              "#9c179e"
             ],
             [
              0.4444444444444444,
              "#bd3786"
             ],
             [
              0.5555555555555556,
              "#d8576b"
             ],
             [
              0.6666666666666666,
              "#ed7953"
             ],
             [
              0.7777777777777778,
              "#fb9f3a"
             ],
             [
              0.8888888888888888,
              "#fdca26"
             ],
             [
              1,
              "#f0f921"
             ]
            ],
            "type": "histogram2dcontour"
           }
          ],
          "mesh3d": [
           {
            "colorbar": {
             "outlinewidth": 0,
             "ticks": ""
            },
            "type": "mesh3d"
           }
          ],
          "parcoords": [
           {
            "line": {
             "colorbar": {
              "outlinewidth": 0,
              "ticks": ""
             }
            },
            "type": "parcoords"
           }
          ],
          "pie": [
           {
            "automargin": true,
            "type": "pie"
           }
          ],
          "scatter": [
           {
            "fillpattern": {
             "fillmode": "overlay",
             "size": 10,
             "solidity": 0.2
            },
            "type": "scatter"
           }
          ],
          "scatter3d": [
           {
            "line": {
             "colorbar": {
              "outlinewidth": 0,
              "ticks": ""
             }
            },
            "marker": {
             "colorbar": {
              "outlinewidth": 0,
              "ticks": ""
             }
            },
            "type": "scatter3d"
           }
          ],
          "scattercarpet": [
           {
            "marker": {
             "colorbar": {
              "outlinewidth": 0,
              "ticks": ""
             }
            },
            "type": "scattercarpet"
           }
          ],
          "scattergeo": [
           {
            "marker": {
             "colorbar": {
              "outlinewidth": 0,
              "ticks": ""
             }
            },
            "type": "scattergeo"
           }
          ],
          "scattergl": [
           {
            "marker": {
             "colorbar": {
              "outlinewidth": 0,
              "ticks": ""
             }
            },
            "type": "scattergl"
           }
          ],
          "scattermapbox": [
           {
            "marker": {
             "colorbar": {
              "outlinewidth": 0,
              "ticks": ""
             }
            },
            "type": "scattermapbox"
           }
          ],
          "scatterpolar": [
           {
            "marker": {
             "colorbar": {
              "outlinewidth": 0,
              "ticks": ""
             }
            },
            "type": "scatterpolar"
           }
          ],
          "scatterpolargl": [
           {
            "marker": {
             "colorbar": {
              "outlinewidth": 0,
              "ticks": ""
             }
            },
            "type": "scatterpolargl"
           }
          ],
          "scatterternary": [
           {
            "marker": {
             "colorbar": {
              "outlinewidth": 0,
              "ticks": ""
             }
            },
            "type": "scatterternary"
           }
          ],
          "surface": [
           {
            "colorbar": {
             "outlinewidth": 0,
             "ticks": ""
            },
            "colorscale": [
             [
              0,
              "#0d0887"
             ],
             [
              0.1111111111111111,
              "#46039f"
             ],
             [
              0.2222222222222222,
              "#7201a8"
             ],
             [
              0.3333333333333333,
              "#9c179e"
             ],
             [
              0.4444444444444444,
              "#bd3786"
             ],
             [
              0.5555555555555556,
              "#d8576b"
             ],
             [
              0.6666666666666666,
              "#ed7953"
             ],
             [
              0.7777777777777778,
              "#fb9f3a"
             ],
             [
              0.8888888888888888,
              "#fdca26"
             ],
             [
              1,
              "#f0f921"
             ]
            ],
            "type": "surface"
           }
          ],
          "table": [
           {
            "cells": {
             "fill": {
              "color": "#EBF0F8"
             },
             "line": {
              "color": "white"
             }
            },
            "header": {
             "fill": {
              "color": "#C8D4E3"
             },
             "line": {
              "color": "white"
             }
            },
            "type": "table"
           }
          ]
         },
         "layout": {
          "annotationdefaults": {
           "arrowcolor": "#2a3f5f",
           "arrowhead": 0,
           "arrowwidth": 1
          },
          "autotypenumbers": "strict",
          "coloraxis": {
           "colorbar": {
            "outlinewidth": 0,
            "ticks": ""
           }
          },
          "colorscale": {
           "diverging": [
            [
             0,
             "#8e0152"
            ],
            [
             0.1,
             "#c51b7d"
            ],
            [
             0.2,
             "#de77ae"
            ],
            [
             0.3,
             "#f1b6da"
            ],
            [
             0.4,
             "#fde0ef"
            ],
            [
             0.5,
             "#f7f7f7"
            ],
            [
             0.6,
             "#e6f5d0"
            ],
            [
             0.7,
             "#b8e186"
            ],
            [
             0.8,
             "#7fbc41"
            ],
            [
             0.9,
             "#4d9221"
            ],
            [
             1,
             "#276419"
            ]
           ],
           "sequential": [
            [
             0,
             "#0d0887"
            ],
            [
             0.1111111111111111,
             "#46039f"
            ],
            [
             0.2222222222222222,
             "#7201a8"
            ],
            [
             0.3333333333333333,
             "#9c179e"
            ],
            [
             0.4444444444444444,
             "#bd3786"
            ],
            [
             0.5555555555555556,
             "#d8576b"
            ],
            [
             0.6666666666666666,
             "#ed7953"
            ],
            [
             0.7777777777777778,
             "#fb9f3a"
            ],
            [
             0.8888888888888888,
             "#fdca26"
            ],
            [
             1,
             "#f0f921"
            ]
           ],
           "sequentialminus": [
            [
             0,
             "#0d0887"
            ],
            [
             0.1111111111111111,
             "#46039f"
            ],
            [
             0.2222222222222222,
             "#7201a8"
            ],
            [
             0.3333333333333333,
             "#9c179e"
            ],
            [
             0.4444444444444444,
             "#bd3786"
            ],
            [
             0.5555555555555556,
             "#d8576b"
            ],
            [
             0.6666666666666666,
             "#ed7953"
            ],
            [
             0.7777777777777778,
             "#fb9f3a"
            ],
            [
             0.8888888888888888,
             "#fdca26"
            ],
            [
             1,
             "#f0f921"
            ]
           ]
          },
          "colorway": [
           "#636efa",
           "#EF553B",
           "#00cc96",
           "#ab63fa",
           "#FFA15A",
           "#19d3f3",
           "#FF6692",
           "#B6E880",
           "#FF97FF",
           "#FECB52"
          ],
          "font": {
           "color": "#2a3f5f"
          },
          "geo": {
           "bgcolor": "white",
           "lakecolor": "white",
           "landcolor": "#E5ECF6",
           "showlakes": true,
           "showland": true,
           "subunitcolor": "white"
          },
          "hoverlabel": {
           "align": "left"
          },
          "hovermode": "closest",
          "mapbox": {
           "style": "light"
          },
          "paper_bgcolor": "white",
          "plot_bgcolor": "#E5ECF6",
          "polar": {
           "angularaxis": {
            "gridcolor": "white",
            "linecolor": "white",
            "ticks": ""
           },
           "bgcolor": "#E5ECF6",
           "radialaxis": {
            "gridcolor": "white",
            "linecolor": "white",
            "ticks": ""
           }
          },
          "scene": {
           "xaxis": {
            "backgroundcolor": "#E5ECF6",
            "gridcolor": "white",
            "gridwidth": 2,
            "linecolor": "white",
            "showbackground": true,
            "ticks": "",
            "zerolinecolor": "white"
           },
           "yaxis": {
            "backgroundcolor": "#E5ECF6",
            "gridcolor": "white",
            "gridwidth": 2,
            "linecolor": "white",
            "showbackground": true,
            "ticks": "",
            "zerolinecolor": "white"
           },
           "zaxis": {
            "backgroundcolor": "#E5ECF6",
            "gridcolor": "white",
            "gridwidth": 2,
            "linecolor": "white",
            "showbackground": true,
            "ticks": "",
            "zerolinecolor": "white"
           }
          },
          "shapedefaults": {
           "line": {
            "color": "#2a3f5f"
           }
          },
          "ternary": {
           "aaxis": {
            "gridcolor": "white",
            "linecolor": "white",
            "ticks": ""
           },
           "baxis": {
            "gridcolor": "white",
            "linecolor": "white",
            "ticks": ""
           },
           "bgcolor": "#E5ECF6",
           "caxis": {
            "gridcolor": "white",
            "linecolor": "white",
            "ticks": ""
           }
          },
          "title": {
           "x": 0.05
          },
          "xaxis": {
           "automargin": true,
           "gridcolor": "white",
           "linecolor": "white",
           "ticks": "",
           "title": {
            "standoff": 15
           },
           "zerolinecolor": "white",
           "zerolinewidth": 2
          },
          "yaxis": {
           "automargin": true,
           "gridcolor": "white",
           "linecolor": "white",
           "ticks": "",
           "title": {
            "standoff": 15
           },
           "zerolinecolor": "white",
           "zerolinewidth": 2
          }
         }
        },
        "title": {
         "text": "Hourly Wage vs Education (1973-2022)"
        },
        "xaxis": {
         "anchor": "y",
         "domain": [
          0,
          1
         ],
         "title": {
          "text": "Years"
         }
        },
        "yaxis": {
         "anchor": "x",
         "domain": [
          0,
          1
         ],
         "title": {
          "text": "Hourly Wage"
         }
        }
       }
      }
     },
     "metadata": {},
     "output_type": "display_data"
    }
   ],
   "source": [
    "fig = px.line(df_gender, x = \"year\", y = df_gender.columns,title = \"Hourly Wage vs Education (1973-2022)\")\n",
    "fig.update_layout(xaxis_title = \"Years\", yaxis_title = \"Hourly Wage\", legend_title = \"Gender\")\n",
    "fig.show()"
   ]
  },
  {
   "cell_type": "code",
   "execution_count": 25,
   "metadata": {},
   "outputs": [
    {
     "data": {
      "text/html": [
       "<div>\n",
       "<style scoped>\n",
       "    .dataframe tbody tr th:only-of-type {\n",
       "        vertical-align: middle;\n",
       "    }\n",
       "\n",
       "    .dataframe tbody tr th {\n",
       "        vertical-align: top;\n",
       "    }\n",
       "\n",
       "    .dataframe thead th {\n",
       "        text-align: right;\n",
       "    }\n",
       "</style>\n",
       "<table border=\"1\" class=\"dataframe\">\n",
       "  <thead>\n",
       "    <tr style=\"text-align: right;\">\n",
       "      <th></th>\n",
       "      <th>year</th>\n",
       "      <th>gender</th>\n",
       "      <th>salary</th>\n",
       "    </tr>\n",
       "  </thead>\n",
       "  <tbody>\n",
       "    <tr>\n",
       "      <th>0</th>\n",
       "      <td>2022</td>\n",
       "      <td>men_advanced_degree</td>\n",
       "      <td>63.51</td>\n",
       "    </tr>\n",
       "    <tr>\n",
       "      <th>1</th>\n",
       "      <td>2021</td>\n",
       "      <td>men_advanced_degree</td>\n",
       "      <td>63.52</td>\n",
       "    </tr>\n",
       "    <tr>\n",
       "      <th>2</th>\n",
       "      <td>2020</td>\n",
       "      <td>men_advanced_degree</td>\n",
       "      <td>62.70</td>\n",
       "    </tr>\n",
       "    <tr>\n",
       "      <th>3</th>\n",
       "      <td>2019</td>\n",
       "      <td>men_advanced_degree</td>\n",
       "      <td>59.93</td>\n",
       "    </tr>\n",
       "    <tr>\n",
       "      <th>4</th>\n",
       "      <td>2018</td>\n",
       "      <td>men_advanced_degree</td>\n",
       "      <td>59.73</td>\n",
       "    </tr>\n",
       "  </tbody>\n",
       "</table>\n",
       "</div>"
      ],
      "text/plain": [
       "   year               gender  salary\n",
       "0  2022  men_advanced_degree   63.51\n",
       "1  2021  men_advanced_degree   63.52\n",
       "2  2020  men_advanced_degree   62.70\n",
       "3  2019  men_advanced_degree   59.93\n",
       "4  2018  men_advanced_degree   59.73"
      ]
     },
     "execution_count": 25,
     "metadata": {},
     "output_type": "execute_result"
    }
   ],
   "source": [
    "#Unpivot the dataset only looking at advanced degrees by gender\n",
    "df_unpivoted = df_gender.melt(id_vars='year', var_name = 'gender', value_name = 'salary')\n",
    "df_unpivoted.head()"
   ]
  },
  {
   "cell_type": "code",
   "execution_count": 26,
   "metadata": {},
   "outputs": [
    {
     "data": {
      "image/png": "[encoded data removed]",
      "text/plain": [
       "<Figure size 1000x800 with 1 Axes>"
      ]
     },
     "metadata": {},
     "output_type": "display_data"
    }
   ],
   "source": [
    "#Color of boxplots\n",
    "props = dict(boxes=\"Green\", whiskers=\"Orange\", medians=\"Blue\", caps=\"Gray\")\n",
    "\n",
    "#Create Boxplot\n",
    "df_unpivoted.boxplot(\"salary\", by=\"gender\", figsize=(10, 8),fontsize=18,color=props,patch_artist=True)\n",
    "\n",
    "#Labels on Boxplot\n",
    "plt.title('Advanced Degree Wages by Gender',fontsize=12)\n",
    "plt.suptitle('')\n",
    "plt.ylabel('Hourly Wage',fontsize=18)\n",
    "\n",
    "plt.show()"
   ]
  },
  {
   "cell_type": "code",
   "execution_count": 27,
   "metadata": {},
   "outputs": [],
   "source": [
    "# Extract individual groups\n",
    "group0 = df_unpivoted[df_unpivoted[\"gender\"] == 'men_advanced_degree'][\"salary\"]\n",
    "group1 = df_unpivoted[df_unpivoted[\"gender\"] == 'women_advanced_degree'][\"salary\"]"
   ]
  },
  {
   "cell_type": "code",
   "execution_count": 28,
   "metadata": {},
   "outputs": [
    {
     "data": {
      "text/plain": [
       "F_onewayResult(statistic=98.95882314672339, pvalue=1.5709388132185287e-16)"
      ]
     },
     "execution_count": 28,
     "metadata": {},
     "output_type": "execute_result"
    }
   ],
   "source": [
    "# Perform the ANOVA\n",
    "stats.f_oneway(group0, group1)"
   ]
  },
  {
   "cell_type": "code",
   "execution_count": 29,
   "metadata": {},
   "outputs": [
    {
     "data": {
      "text/plain": [
       "TtestResult(statistic=9.947804941127643, pvalue=4.1822362231788787e-16, df=88.83363786823676)"
      ]
     },
     "execution_count": 29,
     "metadata": {},
     "output_type": "execute_result"
    }
   ],
   "source": [
    "#Run ttest against men_advanced_degree vs women_advanced_degree\n",
    "stats.ttest_ind(group0, group1, equal_var=False)"
   ]
  },
  {
   "cell_type": "code",
   "execution_count": 30,
   "metadata": {},
   "outputs": [
    {
     "data": {
      "text/plain": [
       "<matplotlib.legend.Legend at 0x1ebf2c723d0>"
      ]
     },
     "execution_count": 30,
     "metadata": {},
     "output_type": "execute_result"
    },
    {
     "data": {
      "image/png": "[encoded data removed]",
      "text/plain": [
       "<Figure size 640x480 with 1 Axes>"
      ]
     },
     "metadata": {},
     "output_type": "display_data"
    }
   ],
   "source": [
    "plt.subplot(2, 1, 2)\n",
    "plt.hist(group0, 20, density=True, alpha = 0.7, label = 'men')\n",
    "plt.hist(group1, 20, density=True, alpha = 0.7, label = 'women')\n",
    "plt.axvline(group0.mean(), color ='k', linestyle='dashed', linewidth=1)\n",
    "plt.axvline(group1.mean(), color ='k', linestyle='dashed', linewidth=1)\n",
    "plt.legend()"
   ]
  },
  {
   "cell_type": "markdown",
   "metadata": {},
   "source": [
    "QUESITON 2 - •\tDoes the increase in education affect the increase in salary for both men and women equally?"
   ]
  },
  {
   "cell_type": "code",
   "execution_count": null,
   "metadata": {},
   "outputs": [],
   "source": []
  },
  {
   "cell_type": "code",
   "execution_count": null,
   "metadata": {},
   "outputs": [],
   "source": []
  },
  {
   "cell_type": "markdown",
   "metadata": {},
   "source": [
    "QUESTION 3 - •\tFor those with an advanced degree, is there a difference between one of the groups based on race for the last 5 years?"
   ]
  },
  {
   "cell_type": "code",
   "execution_count": null,
   "metadata": {},
   "outputs": [],
   "source": []
  },
  {
   "cell_type": "code",
   "execution_count": null,
   "metadata": {},
   "outputs": [],
   "source": []
  }
 ],
 "metadata": {
  "kernelspec": {
   "display_name": "Python 3",
   "language": "python",
   "name": "python3"
  },
  "language_info": {
   "codemirror_mode": {
    "name": "ipython",
    "version": 3
   },
   "file_extension": ".py",
   "mimetype": "text/x-python",
   "name": "python",
   "nbconvert_exporter": "python",
   "pygments_lexer": "ipython3",
   "version": "3.11.7"
  }
 },
 "nbformat": 4,
 "nbformat_minor": 2
}
