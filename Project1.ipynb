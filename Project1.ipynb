{
 "cells": [
  {
   "cell_type": "code",
   "execution_count": 31,
   "metadata": {},
   "outputs": [],
   "source": [
    "import numpy as np\n",
    "import pandas as pd\n",
    "import matplotlib.pyplot as plt\n",
    "import scipy.stats as stats \n",
    "import plotly.express as px\n"
   ]
  },
  {
   "cell_type": "code",
   "execution_count": 32,
   "metadata": {},
   "outputs": [
    {
     "data": {
      "text/html": [
       "<div>\n",
       "<style scoped>\n",
       "    .dataframe tbody tr th:only-of-type {\n",
       "        vertical-align: middle;\n",
       "    }\n",
       "\n",
       "    .dataframe tbody tr th {\n",
       "        vertical-align: top;\n",
       "    }\n",
       "\n",
       "    .dataframe thead th {\n",
       "        text-align: right;\n",
       "    }\n",
       "</style>\n",
       "<table border=\"1\" class=\"dataframe\">\n",
       "  <thead>\n",
       "    <tr style=\"text-align: right;\">\n",
       "      <th></th>\n",
       "      <th>year</th>\n",
       "      <th>less_than_hs</th>\n",
       "      <th>high_school</th>\n",
       "      <th>some_college</th>\n",
       "      <th>bachelors_degree</th>\n",
       "      <th>advanced_degree</th>\n",
       "      <th>men_less_than_hs</th>\n",
       "      <th>men_high_school</th>\n",
       "      <th>men_some_college</th>\n",
       "      <th>men_bachelors_degree</th>\n",
       "      <th>...</th>\n",
       "      <th>black_women_less_than_hs</th>\n",
       "      <th>black_women_high_school</th>\n",
       "      <th>black_women_some_college</th>\n",
       "      <th>black_women_bachelors_degree</th>\n",
       "      <th>black_women_advanced_degree</th>\n",
       "      <th>hispanic_women_less_than_hs</th>\n",
       "      <th>hispanic_women_high_school</th>\n",
       "      <th>hispanic_women_some_college</th>\n",
       "      <th>hispanic_women_bachelors_degree</th>\n",
       "      <th>hispanic_women_advanced_degree</th>\n",
       "    </tr>\n",
       "  </thead>\n",
       "  <tbody>\n",
       "    <tr>\n",
       "      <th>0</th>\n",
       "      <td>2022</td>\n",
       "      <td>16.52</td>\n",
       "      <td>21.94</td>\n",
       "      <td>24.81</td>\n",
       "      <td>41.60</td>\n",
       "      <td>53.22</td>\n",
       "      <td>17.99</td>\n",
       "      <td>24.08</td>\n",
       "      <td>27.96</td>\n",
       "      <td>49.01</td>\n",
       "      <td>...</td>\n",
       "      <td>13.89</td>\n",
       "      <td>17.83</td>\n",
       "      <td>20.36</td>\n",
       "      <td>29.94</td>\n",
       "      <td>39.41</td>\n",
       "      <td>14.74</td>\n",
       "      <td>18.18</td>\n",
       "      <td>20.64</td>\n",
       "      <td>31.13</td>\n",
       "      <td>40.64</td>\n",
       "    </tr>\n",
       "    <tr>\n",
       "      <th>1</th>\n",
       "      <td>2021</td>\n",
       "      <td>16.74</td>\n",
       "      <td>22.28</td>\n",
       "      <td>24.92</td>\n",
       "      <td>41.32</td>\n",
       "      <td>53.45</td>\n",
       "      <td>18.34</td>\n",
       "      <td>24.36</td>\n",
       "      <td>27.96</td>\n",
       "      <td>47.83</td>\n",
       "      <td>...</td>\n",
       "      <td>13.73</td>\n",
       "      <td>18.30</td>\n",
       "      <td>20.18</td>\n",
       "      <td>29.35</td>\n",
       "      <td>40.07</td>\n",
       "      <td>14.97</td>\n",
       "      <td>18.34</td>\n",
       "      <td>21.14</td>\n",
       "      <td>31.25</td>\n",
       "      <td>42.47</td>\n",
       "    </tr>\n",
       "    <tr>\n",
       "      <th>2</th>\n",
       "      <td>2020</td>\n",
       "      <td>17.02</td>\n",
       "      <td>22.70</td>\n",
       "      <td>25.44</td>\n",
       "      <td>41.65</td>\n",
       "      <td>53.74</td>\n",
       "      <td>18.76</td>\n",
       "      <td>25.09</td>\n",
       "      <td>28.55</td>\n",
       "      <td>48.15</td>\n",
       "      <td>...</td>\n",
       "      <td>13.66</td>\n",
       "      <td>17.93</td>\n",
       "      <td>20.31</td>\n",
       "      <td>31.38</td>\n",
       "      <td>42.44</td>\n",
       "      <td>14.58</td>\n",
       "      <td>18.50</td>\n",
       "      <td>20.69</td>\n",
       "      <td>31.55</td>\n",
       "      <td>44.15</td>\n",
       "    </tr>\n",
       "    <tr>\n",
       "      <th>3</th>\n",
       "      <td>2019</td>\n",
       "      <td>16.11</td>\n",
       "      <td>21.64</td>\n",
       "      <td>24.00</td>\n",
       "      <td>39.61</td>\n",
       "      <td>51.57</td>\n",
       "      <td>17.55</td>\n",
       "      <td>23.99</td>\n",
       "      <td>26.99</td>\n",
       "      <td>45.74</td>\n",
       "      <td>...</td>\n",
       "      <td>13.30</td>\n",
       "      <td>17.18</td>\n",
       "      <td>19.17</td>\n",
       "      <td>30.31</td>\n",
       "      <td>40.42</td>\n",
       "      <td>14.50</td>\n",
       "      <td>17.71</td>\n",
       "      <td>19.69</td>\n",
       "      <td>30.18</td>\n",
       "      <td>42.30</td>\n",
       "    </tr>\n",
       "    <tr>\n",
       "      <th>4</th>\n",
       "      <td>2018</td>\n",
       "      <td>15.94</td>\n",
       "      <td>21.50</td>\n",
       "      <td>23.70</td>\n",
       "      <td>38.87</td>\n",
       "      <td>51.03</td>\n",
       "      <td>17.70</td>\n",
       "      <td>23.72</td>\n",
       "      <td>26.61</td>\n",
       "      <td>44.97</td>\n",
       "      <td>...</td>\n",
       "      <td>12.48</td>\n",
       "      <td>16.81</td>\n",
       "      <td>18.57</td>\n",
       "      <td>30.85</td>\n",
       "      <td>39.64</td>\n",
       "      <td>13.47</td>\n",
       "      <td>17.28</td>\n",
       "      <td>19.29</td>\n",
       "      <td>29.47</td>\n",
       "      <td>39.35</td>\n",
       "    </tr>\n",
       "  </tbody>\n",
       "</table>\n",
       "<p>5 rows × 61 columns</p>\n",
       "</div>"
      ],
      "text/plain": [
       "   year  less_than_hs  high_school  some_college  bachelors_degree  \\\n",
       "0  2022         16.52        21.94         24.81             41.60   \n",
       "1  2021         16.74        22.28         24.92             41.32   \n",
       "2  2020         17.02        22.70         25.44             41.65   \n",
       "3  2019         16.11        21.64         24.00             39.61   \n",
       "4  2018         15.94        21.50         23.70             38.87   \n",
       "\n",
       "   advanced_degree  men_less_than_hs  men_high_school  men_some_college  \\\n",
       "0            53.22             17.99            24.08             27.96   \n",
       "1            53.45             18.34            24.36             27.96   \n",
       "2            53.74             18.76            25.09             28.55   \n",
       "3            51.57             17.55            23.99             26.99   \n",
       "4            51.03             17.70            23.72             26.61   \n",
       "\n",
       "   men_bachelors_degree  ...  black_women_less_than_hs  \\\n",
       "0                 49.01  ...                     13.89   \n",
       "1                 47.83  ...                     13.73   \n",
       "2                 48.15  ...                     13.66   \n",
       "3                 45.74  ...                     13.30   \n",
       "4                 44.97  ...                     12.48   \n",
       "\n",
       "   black_women_high_school  black_women_some_college  \\\n",
       "0                    17.83                     20.36   \n",
       "1                    18.30                     20.18   \n",
       "2                    17.93                     20.31   \n",
       "3                    17.18                     19.17   \n",
       "4                    16.81                     18.57   \n",
       "\n",
       "   black_women_bachelors_degree  black_women_advanced_degree  \\\n",
       "0                         29.94                        39.41   \n",
       "1                         29.35                        40.07   \n",
       "2                         31.38                        42.44   \n",
       "3                         30.31                        40.42   \n",
       "4                         30.85                        39.64   \n",
       "\n",
       "   hispanic_women_less_than_hs  hispanic_women_high_school  \\\n",
       "0                        14.74                       18.18   \n",
       "1                        14.97                       18.34   \n",
       "2                        14.58                       18.50   \n",
       "3                        14.50                       17.71   \n",
       "4                        13.47                       17.28   \n",
       "\n",
       "   hispanic_women_some_college  hispanic_women_bachelors_degree  \\\n",
       "0                        20.64                            31.13   \n",
       "1                        21.14                            31.25   \n",
       "2                        20.69                            31.55   \n",
       "3                        19.69                            30.18   \n",
       "4                        19.29                            29.47   \n",
       "\n",
       "   hispanic_women_advanced_degree  \n",
       "0                           40.64  \n",
       "1                           42.47  \n",
       "2                           44.15  \n",
       "3                           42.30  \n",
       "4                           39.35  \n",
       "\n",
       "[5 rows x 61 columns]"
      ]
     },
     "execution_count": 32,
     "metadata": {},
     "output_type": "execute_result"
    }
   ],
   "source": [
    "# Read CSV File\n",
    "df = pd.read_csv (r\"wages_by_education.csv\")\n",
    "df.head()"
   ]
  },
  {
   "cell_type": "code",
   "execution_count": 33,
   "metadata": {},
   "outputs": [
    {
     "name": "stdout",
     "output_type": "stream",
     "text": [
      "<class 'pandas.core.frame.DataFrame'>\n",
      "RangeIndex: 50 entries, 0 to 49\n",
      "Data columns (total 61 columns):\n",
      " #   Column                           Non-Null Count  Dtype  \n",
      "---  ------                           --------------  -----  \n",
      " 0   year                             50 non-null     int64  \n",
      " 1   less_than_hs                     50 non-null     float64\n",
      " 2   high_school                      50 non-null     float64\n",
      " 3   some_college                     50 non-null     float64\n",
      " 4   bachelors_degree                 50 non-null     float64\n",
      " 5   advanced_degree                  50 non-null     float64\n",
      " 6   men_less_than_hs                 50 non-null     float64\n",
      " 7   men_high_school                  50 non-null     float64\n",
      " 8   men_some_college                 50 non-null     float64\n",
      " 9   men_bachelors_degree             50 non-null     float64\n",
      " 10  men_advanced_degree              50 non-null     float64\n",
      " 11  women_less_than_hs               50 non-null     float64\n",
      " 12  women_high_school                50 non-null     float64\n",
      " 13  women_some_college               50 non-null     float64\n",
      " 14  women_bachelors_degree           50 non-null     float64\n",
      " 15  women_advanced_degree            50 non-null     float64\n",
      " 16  white_less_than_hs               50 non-null     float64\n",
      " 17  white_high_school                50 non-null     float64\n",
      " 18  white_some_college               50 non-null     float64\n",
      " 19  white_bachelors_degree           50 non-null     float64\n",
      " 20  white_advanced_degree            50 non-null     float64\n",
      " 21  black_less_than_hs               50 non-null     float64\n",
      " 22  black_high_school                50 non-null     float64\n",
      " 23  black_some_college               50 non-null     float64\n",
      " 24  black_bachelors_degree           50 non-null     float64\n",
      " 25  black_advanced_degree            50 non-null     float64\n",
      " 26  hispanic_less_than_hs            50 non-null     float64\n",
      " 27  hispanic_high_school             50 non-null     float64\n",
      " 28  hispanic_some_college            50 non-null     float64\n",
      " 29  hispanic_bachelors_degree        50 non-null     float64\n",
      " 30  hispanic_advanced_degree         50 non-null     float64\n",
      " 31  white_men_less_than_hs           50 non-null     float64\n",
      " 32  white_men_high_school            50 non-null     float64\n",
      " 33  white_men_some_college           50 non-null     float64\n",
      " 34  white_men_bachelors_degree       50 non-null     float64\n",
      " 35  white_men_advanced_degree        50 non-null     float64\n",
      " 36  black_men_less_than_hs           50 non-null     float64\n",
      " 37  black_men_high_school            50 non-null     float64\n",
      " 38  black_men_some_college           50 non-null     float64\n",
      " 39  black_men_bachelors_degree       50 non-null     float64\n",
      " 40  black_men_advanced_degree        50 non-null     float64\n",
      " 41  hispanic_men_less_than_hs        50 non-null     float64\n",
      " 42  hispanic_men_high_school         50 non-null     float64\n",
      " 43  hispanic_men_some_college        50 non-null     float64\n",
      " 44  hispanic_men_bachelors_degree    50 non-null     float64\n",
      " 45  hispanic_men_advanced_degree     50 non-null     float64\n",
      " 46  white_women_less_than_hs         50 non-null     float64\n",
      " 47  white_women_high_school          50 non-null     float64\n",
      " 48  white_women_some_college         50 non-null     float64\n",
      " 49  white_women_bachelors_degree     50 non-null     float64\n",
      " 50  white_women_advanced_degree      50 non-null     float64\n",
      " 51  black_women_less_than_hs         50 non-null     float64\n",
      " 52  black_women_high_school          50 non-null     float64\n",
      " 53  black_women_some_college         50 non-null     float64\n",
      " 54  black_women_bachelors_degree     50 non-null     float64\n",
      " 55  black_women_advanced_degree      50 non-null     float64\n",
      " 56  hispanic_women_less_than_hs      50 non-null     float64\n",
      " 57  hispanic_women_high_school       50 non-null     float64\n",
      " 58  hispanic_women_some_college      50 non-null     float64\n",
      " 59  hispanic_women_bachelors_degree  50 non-null     float64\n",
      " 60  hispanic_women_advanced_degree   50 non-null     float64\n",
      "dtypes: float64(60), int64(1)\n",
      "memory usage: 24.0 KB\n"
     ]
    }
   ],
   "source": [
    "#Display column info\n",
    "df.info()"
   ]
  },
  {
   "cell_type": "markdown",
   "metadata": {},
   "source": [
    "QUESTION 1 - •\tAre things trending towards females earning as much as males for those with an advanced degree?"
   ]
  },
  {
   "cell_type": "code",
   "execution_count": null,
   "metadata": {},
   "outputs": [],
   "source": []
  },
  {
   "cell_type": "code",
   "execution_count": null,
   "metadata": {},
   "outputs": [],
   "source": []
  },
  {
   "cell_type": "markdown",
   "metadata": {},
   "source": [
    "QUESITON 2 - •\tDoes the increase in education affect the increase in salary for both men and women equally?"
   ]
  },
  {
   "cell_type": "code",
   "execution_count": null,
   "metadata": {},
   "outputs": [],
   "source": []
  },
  {
   "cell_type": "code",
   "execution_count": null,
   "metadata": {},
   "outputs": [],
   "source": []
  },
  {
   "cell_type": "markdown",
   "metadata": {},
   "source": [
    "QUESTION 3 - •\tFor those with an advanced degree, is there a difference between one of the groups based on race for the last 5 years?"
   ]
  },
  {
   "cell_type": "code",
   "execution_count": 34,
   "metadata": {},
   "outputs": [
    {
     "data": {
      "text/html": [
       "<div>\n",
       "<style scoped>\n",
       "    .dataframe tbody tr th:only-of-type {\n",
       "        vertical-align: middle;\n",
       "    }\n",
       "\n",
       "    .dataframe tbody tr th {\n",
       "        vertical-align: top;\n",
       "    }\n",
       "\n",
       "    .dataframe thead th {\n",
       "        text-align: right;\n",
       "    }\n",
       "</style>\n",
       "<table border=\"1\" class=\"dataframe\">\n",
       "  <thead>\n",
       "    <tr style=\"text-align: right;\">\n",
       "      <th></th>\n",
       "      <th>year</th>\n",
       "      <th>less_than_hs</th>\n",
       "      <th>high_school</th>\n",
       "      <th>some_college</th>\n",
       "      <th>bachelors_degree</th>\n",
       "      <th>advanced_degree</th>\n",
       "    </tr>\n",
       "  </thead>\n",
       "  <tbody>\n",
       "    <tr>\n",
       "      <th>0</th>\n",
       "      <td>2022</td>\n",
       "      <td>16.52</td>\n",
       "      <td>21.94</td>\n",
       "      <td>24.81</td>\n",
       "      <td>41.60</td>\n",
       "      <td>53.22</td>\n",
       "    </tr>\n",
       "    <tr>\n",
       "      <th>1</th>\n",
       "      <td>2021</td>\n",
       "      <td>16.74</td>\n",
       "      <td>22.28</td>\n",
       "      <td>24.92</td>\n",
       "      <td>41.32</td>\n",
       "      <td>53.45</td>\n",
       "    </tr>\n",
       "    <tr>\n",
       "      <th>2</th>\n",
       "      <td>2020</td>\n",
       "      <td>17.02</td>\n",
       "      <td>22.70</td>\n",
       "      <td>25.44</td>\n",
       "      <td>41.65</td>\n",
       "      <td>53.74</td>\n",
       "    </tr>\n",
       "    <tr>\n",
       "      <th>3</th>\n",
       "      <td>2019</td>\n",
       "      <td>16.11</td>\n",
       "      <td>21.64</td>\n",
       "      <td>24.00</td>\n",
       "      <td>39.61</td>\n",
       "      <td>51.57</td>\n",
       "    </tr>\n",
       "    <tr>\n",
       "      <th>4</th>\n",
       "      <td>2018</td>\n",
       "      <td>15.94</td>\n",
       "      <td>21.50</td>\n",
       "      <td>23.70</td>\n",
       "      <td>38.87</td>\n",
       "      <td>51.03</td>\n",
       "    </tr>\n",
       "  </tbody>\n",
       "</table>\n",
       "</div>"
      ],
      "text/plain": [
       "   year  less_than_hs  high_school  some_college  bachelors_degree  \\\n",
       "0  2022         16.52        21.94         24.81             41.60   \n",
       "1  2021         16.74        22.28         24.92             41.32   \n",
       "2  2020         17.02        22.70         25.44             41.65   \n",
       "3  2019         16.11        21.64         24.00             39.61   \n",
       "4  2018         15.94        21.50         23.70             38.87   \n",
       "\n",
       "   advanced_degree  \n",
       "0            53.22  \n",
       "1            53.45  \n",
       "2            53.74  \n",
       "3            51.57  \n",
       "4            51.03  "
      ]
     },
     "execution_count": 34,
     "metadata": {},
     "output_type": "execute_result"
    }
   ],
   "source": [
    "df_ed = df.iloc[:,0:6]\n",
    "df_ed.head()"
   ]
  },
  {
   "cell_type": "code",
   "execution_count": 35,
   "metadata": {},
   "outputs": [
    {
     "data": {
      "text/plain": [
       "Index(['year', 'less_than_hs', 'high_school', 'some_college',\n",
       "       'bachelors_degree', 'advanced_degree'],\n",
       "      dtype='object')"
      ]
     },
     "execution_count": 35,
     "metadata": {},
     "output_type": "execute_result"
    }
   ],
   "source": [
    "df_ed.columns"
   ]
  },
  {
   "cell_type": "code",
   "execution_count": 36,
   "metadata": {},
   "outputs": [
    {
     "data": {
      "application/vnd.plotly.v1+json": {
       "config": {
        "plotlyServerURL": "https://plot.ly"
       },
       "data": [
        {
         "hovertemplate": "variable=less_than_hs<br>year=%{x}<br>value=%{y}<extra></extra>",
         "legendgroup": "less_than_hs",
         "line": {
          "color": "#636efa",
          "dash": "solid"
         },
         "marker": {
          "symbol": "circle"
         },
         "mode": "lines",
         "name": "less_than_hs",
         "orientation": "v",
         "showlegend": true,
         "type": "scatter",
         "x": [
          2022,
          2021,
          2020,
          2019,
          2018,
          2017,
          2016,
          2015,
          2014,
          2013,
          2012,
          2011,
          2010,
          2009,
          2008,
          2007,
          2006,
          2005,
          2004,
          2003,
          2002,
          2001,
          2000,
          1999,
          1998,
          1997,
          1996,
          1995,
          1994,
          1993,
          1992,
          1991,
          1990,
          1989,
          1988,
          1987,
          1986,
          1985,
          1984,
          1983,
          1982,
          1981,
          1980,
          1979,
          1978,
          1977,
          1976,
          1975,
          1974,
          1973
         ],
         "xaxis": "x",
         "y": [
          16.52,
          16.74,
          17.02,
          16.11,
          15.94,
          15.92,
          15.45,
          15.25,
          14.66,
          14.62,
          14.8,
          14.96,
          15.04,
          15.41,
          15.08,
          15.19,
          14.9,
          14.96,
          15.13,
          15.27,
          15.18,
          14.88,
          14.67,
          14.61,
          14.57,
          14.07,
          13.95,
          13.95,
          14.33,
          14.6,
          14.87,
          14.99,
          15.05,
          15.46,
          15.79,
          15.76,
          16.1,
          16.08,
          16.21,
          16.43,
          16.73,
          17.07,
          17.42,
          17.95,
          17.29,
          17.59,
          17.52,
          17.3,
          17.68,
          18.06
         ],
         "yaxis": "y"
        },
        {
         "hovertemplate": "variable=high_school<br>year=%{x}<br>value=%{y}<extra></extra>",
         "legendgroup": "high_school",
         "line": {
          "color": "#EF553B",
          "dash": "solid"
         },
         "marker": {
          "symbol": "circle"
         },
         "mode": "lines",
         "name": "high_school",
         "orientation": "v",
         "showlegend": true,
         "type": "scatter",
         "x": [
          2022,
          2021,
          2020,
          2019,
          2018,
          2017,
          2016,
          2015,
          2014,
          2013,
          2012,
          2011,
          2010,
          2009,
          2008,
          2007,
          2006,
          2005,
          2004,
          2003,
          2002,
          2001,
          2000,
          1999,
          1998,
          1997,
          1996,
          1995,
          1994,
          1993,
          1992,
          1991,
          1990,
          1989,
          1988,
          1987,
          1986,
          1985,
          1984,
          1983,
          1982,
          1981,
          1980,
          1979,
          1978,
          1977,
          1976,
          1975,
          1974,
          1973
         ],
         "xaxis": "x",
         "y": [
          21.94,
          22.28,
          22.7,
          21.64,
          21.5,
          21.26,
          21,
          20.81,
          20.34,
          20.31,
          20.5,
          20.67,
          21.06,
          21.42,
          20.93,
          21.04,
          21.17,
          21.07,
          21.33,
          21.5,
          21.39,
          21.1,
          20.8,
          20.67,
          20.39,
          19.95,
          19.62,
          19.68,
          19.88,
          19.65,
          19.65,
          19.77,
          19.74,
          20.07,
          20.66,
          20.6,
          20.61,
          20.4,
          20.3,
          20.43,
          20.65,
          20.68,
          20.9,
          21.62,
          21.52,
          21.5,
          21.76,
          21.55,
          21.6,
          22.22
         ],
         "yaxis": "y"
        },
        {
         "hovertemplate": "variable=some_college<br>year=%{x}<br>value=%{y}<extra></extra>",
         "legendgroup": "some_college",
         "line": {
          "color": "#00cc96",
          "dash": "solid"
         },
         "marker": {
          "symbol": "circle"
         },
         "mode": "lines",
         "name": "some_college",
         "orientation": "v",
         "showlegend": true,
         "type": "scatter",
         "x": [
          2022,
          2021,
          2020,
          2019,
          2018,
          2017,
          2016,
          2015,
          2014,
          2013,
          2012,
          2011,
          2010,
          2009,
          2008,
          2007,
          2006,
          2005,
          2004,
          2003,
          2002,
          2001,
          2000,
          1999,
          1998,
          1997,
          1996,
          1995,
          1994,
          1993,
          1992,
          1991,
          1990,
          1989,
          1988,
          1987,
          1986,
          1985,
          1984,
          1983,
          1982,
          1981,
          1980,
          1979,
          1978,
          1977,
          1976,
          1975,
          1974,
          1973
         ],
         "xaxis": "x",
         "y": [
          24.81,
          24.92,
          25.44,
          24,
          23.7,
          23.31,
          23.35,
          23.17,
          22.48,
          22.5,
          22.56,
          22.9,
          23.56,
          23.82,
          23.52,
          23.84,
          23.69,
          23.76,
          24.11,
          24.19,
          24.25,
          24.05,
          23.68,
          23.36,
          23.02,
          22.54,
          22.11,
          22.04,
          22.26,
          22.27,
          22.26,
          22.49,
          22.58,
          22.61,
          23.03,
          23.17,
          23.12,
          22.6,
          22.37,
          22.28,
          22.43,
          22.47,
          22.73,
          23.2,
          23.25,
          22.97,
          23.49,
          23.3,
          23.32,
          24.08
         ],
         "yaxis": "y"
        },
        {
         "hovertemplate": "variable=bachelors_degree<br>year=%{x}<br>value=%{y}<extra></extra>",
         "legendgroup": "bachelors_degree",
         "line": {
          "color": "#ab63fa",
          "dash": "solid"
         },
         "marker": {
          "symbol": "circle"
         },
         "mode": "lines",
         "name": "bachelors_degree",
         "orientation": "v",
         "showlegend": true,
         "type": "scatter",
         "x": [
          2022,
          2021,
          2020,
          2019,
          2018,
          2017,
          2016,
          2015,
          2014,
          2013,
          2012,
          2011,
          2010,
          2009,
          2008,
          2007,
          2006,
          2005,
          2004,
          2003,
          2002,
          2001,
          2000,
          1999,
          1998,
          1997,
          1996,
          1995,
          1994,
          1993,
          1992,
          1991,
          1990,
          1989,
          1988,
          1987,
          1986,
          1985,
          1984,
          1983,
          1982,
          1981,
          1980,
          1979,
          1978,
          1977,
          1976,
          1975,
          1974,
          1973
         ],
         "xaxis": "x",
         "y": [
          41.6,
          41.32,
          41.65,
          39.61,
          38.87,
          38.65,
          38.73,
          37.96,
          36.47,
          37,
          36.76,
          36.44,
          37.42,
          37.3,
          37.04,
          37.23,
          36.99,
          36.89,
          36.78,
          37.14,
          37.26,
          37.07,
          36.44,
          35.76,
          34.97,
          33.44,
          32.5,
          32.86,
          32.72,
          32.16,
          32.16,
          31.87,
          32.21,
          31.89,
          33.41,
          33.19,
          32.67,
          31.5,
          31.07,
          30.73,
          30.55,
          30.17,
          30.04,
          30.57,
          30.9,
          31.07,
          31.46,
          31.45,
          31.69,
          32.8
         ],
         "yaxis": "y"
        },
        {
         "hovertemplate": "variable=advanced_degree<br>year=%{x}<br>value=%{y}<extra></extra>",
         "legendgroup": "advanced_degree",
         "line": {
          "color": "#FFA15A",
          "dash": "solid"
         },
         "marker": {
          "symbol": "circle"
         },
         "mode": "lines",
         "name": "advanced_degree",
         "orientation": "v",
         "showlegend": true,
         "type": "scatter",
         "x": [
          2022,
          2021,
          2020,
          2019,
          2018,
          2017,
          2016,
          2015,
          2014,
          2013,
          2012,
          2011,
          2010,
          2009,
          2008,
          2007,
          2006,
          2005,
          2004,
          2003,
          2002,
          2001,
          2000,
          1999,
          1998,
          1997,
          1996,
          1995,
          1994,
          1993,
          1992,
          1991,
          1990,
          1989,
          1988,
          1987,
          1986,
          1985,
          1984,
          1983,
          1982,
          1981,
          1980,
          1979,
          1978,
          1977,
          1976,
          1975,
          1974,
          1973
         ],
         "xaxis": "x",
         "y": [
          53.22,
          53.45,
          53.74,
          51.57,
          51.03,
          49.4,
          49.64,
          48.42,
          47.27,
          48.54,
          48.47,
          47.56,
          48.8,
          49.12,
          47.55,
          47.31,
          47.23,
          47.09,
          47.48,
          46.79,
          47.36,
          46.23,
          45.99,
          46.02,
          44.49,
          43.68,
          43.35,
          43.27,
          43.46,
          41.45,
          40.94,
          40.71,
          39.95,
          39.8,
          41.12,
          40.55,
          39.88,
          38.31,
          37.45,
          36.78,
          36.08,
          35.32,
          35.53,
          36.19,
          37.56,
          37.36,
          37.5,
          38.41,
          38.37,
          38.16
         ],
         "yaxis": "y"
        }
       ],
       "layout": {
        "legend": {
         "title": {
          "text": "Education Level"
         },
         "tracegroupgap": 0
        },
        "template": {
         "data": {
          "bar": [
           {
            "error_x": {
             "color": "#2a3f5f"
            },
            "error_y": {
             "color": "#2a3f5f"
            },
            "marker": {
             "line": {
              "color": "#E5ECF6",
              "width": 0.5
             },
             "pattern": {
              "fillmode": "overlay",
              "size": 10,
              "solidity": 0.2
             }
            },
            "type": "bar"
           }
          ],
          "barpolar": [
           {
            "marker": {
             "line": {
              "color": "#E5ECF6",
              "width": 0.5
             },
             "pattern": {
              "fillmode": "overlay",
              "size": 10,
              "solidity": 0.2
             }
            },
            "type": "barpolar"
           }
          ],
          "carpet": [
           {
            "aaxis": {
             "endlinecolor": "#2a3f5f",
             "gridcolor": "white",
             "linecolor": "white",
             "minorgridcolor": "white",
             "startlinecolor": "#2a3f5f"
            },
            "baxis": {
             "endlinecolor": "#2a3f5f",
             "gridcolor": "white",
             "linecolor": "white",
             "minorgridcolor": "white",
             "startlinecolor": "#2a3f5f"
            },
            "type": "carpet"
           }
          ],
          "choropleth": [
           {
            "colorbar": {
             "outlinewidth": 0,
             "ticks": ""
            },
            "type": "choropleth"
           }
          ],
          "contour": [
           {
            "colorbar": {
             "outlinewidth": 0,
             "ticks": ""
            },
            "colorscale": [
             [
              0,
              "#0d0887"
             ],
             [
              0.1111111111111111,
              "#46039f"
             ],
             [
              0.2222222222222222,
              "#7201a8"
             ],
             [
              0.3333333333333333,
              "#9c179e"
             ],
             [
              0.4444444444444444,
              "#bd3786"
             ],
             [
              0.5555555555555556,
              "#d8576b"
             ],
             [
              0.6666666666666666,
              "#ed7953"
             ],
             [
              0.7777777777777778,
              "#fb9f3a"
             ],
             [
              0.8888888888888888,
              "#fdca26"
             ],
             [
              1,
              "#f0f921"
             ]
            ],
            "type": "contour"
           }
          ],
          "contourcarpet": [
           {
            "colorbar": {
             "outlinewidth": 0,
             "ticks": ""
            },
            "type": "contourcarpet"
           }
          ],
          "heatmap": [
           {
            "colorbar": {
             "outlinewidth": 0,
             "ticks": ""
            },
            "colorscale": [
             [
              0,
              "#0d0887"
             ],
             [
              0.1111111111111111,
              "#46039f"
             ],
             [
              0.2222222222222222,
              "#7201a8"
             ],
             [
              0.3333333333333333,
              "#9c179e"
             ],
             [
              0.4444444444444444,
              "#bd3786"
             ],
             [
              0.5555555555555556,
              "#d8576b"
             ],
             [
              0.6666666666666666,
              "#ed7953"
             ],
             [
              0.7777777777777778,
              "#fb9f3a"
             ],
             [
              0.8888888888888888,
              "#fdca26"
             ],
             [
              1,
              "#f0f921"
             ]
            ],
            "type": "heatmap"
           }
          ],
          "heatmapgl": [
           {
            "colorbar": {
             "outlinewidth": 0,
             "ticks": ""
            },
            "colorscale": [
             [
              0,
              "#0d0887"
             ],
             [
              0.1111111111111111,
              "#46039f"
             ],
             [
              0.2222222222222222,
              "#7201a8"
             ],
             [
              0.3333333333333333,
              "#9c179e"
             ],
             [
              0.4444444444444444,
              "#bd3786"
             ],
             [
              0.5555555555555556,
              "#d8576b"
             ],
             [
              0.6666666666666666,
              "#ed7953"
             ],
             [
              0.7777777777777778,
              "#fb9f3a"
             ],
             [
              0.8888888888888888,
              "#fdca26"
             ],
             [
              1,
              "#f0f921"
             ]
            ],
            "type": "heatmapgl"
           }
          ],
          "histogram": [
           {
            "marker": {
             "pattern": {
              "fillmode": "overlay",
              "size": 10,
              "solidity": 0.2
             }
            },
            "type": "histogram"
           }
          ],
          "histogram2d": [
           {
            "colorbar": {
             "outlinewidth": 0,
             "ticks": ""
            },
            "colorscale": [
             [
              0,
              "#0d0887"
             ],
             [
              0.1111111111111111,
              "#46039f"
             ],
             [
              0.2222222222222222,
              "#7201a8"
             ],
             [
              0.3333333333333333,
              "#9c179e"
             ],
             [
              0.4444444444444444,
              "#bd3786"
             ],
             [
              0.5555555555555556,
              "#d8576b"
             ],
             [
              0.6666666666666666,
              "#ed7953"
             ],
             [
              0.7777777777777778,
              "#fb9f3a"
             ],
             [
              0.8888888888888888,
              "#fdca26"
             ],
             [
              1,
              "#f0f921"
             ]
            ],
            "type": "histogram2d"
           }
          ],
          "histogram2dcontour": [
           {
            "colorbar": {
             "outlinewidth": 0,
             "ticks": ""
            },
            "colorscale": [
             [
              0,
              "#0d0887"
             ],
             [
              0.1111111111111111,
              "#46039f"
             ],
             [
              0.2222222222222222,
              "#7201a8"
             ],
             [
              0.3333333333333333,
              "#9c179e"
             ],
             [
              0.4444444444444444,
              "#bd3786"
             ],
             [
              0.5555555555555556,
              "#d8576b"
             ],
             [
              0.6666666666666666,
              "#ed7953"
             ],
             [
              0.7777777777777778,
              "#fb9f3a"
             ],
             [
              0.8888888888888888,
              "#fdca26"
             ],
             [
              1,
              "#f0f921"
             ]
            ],
            "type": "histogram2dcontour"
           }
          ],
          "mesh3d": [
           {
            "colorbar": {
             "outlinewidth": 0,
             "ticks": ""
            },
            "type": "mesh3d"
           }
          ],
          "parcoords": [
           {
            "line": {
             "colorbar": {
              "outlinewidth": 0,
              "ticks": ""
             }
            },
            "type": "parcoords"
           }
          ],
          "pie": [
           {
            "automargin": true,
            "type": "pie"
           }
          ],
          "scatter": [
           {
            "fillpattern": {
             "fillmode": "overlay",
             "size": 10,
             "solidity": 0.2
            },
            "type": "scatter"
           }
          ],
          "scatter3d": [
           {
            "line": {
             "colorbar": {
              "outlinewidth": 0,
              "ticks": ""
             }
            },
            "marker": {
             "colorbar": {
              "outlinewidth": 0,
              "ticks": ""
             }
            },
            "type": "scatter3d"
           }
          ],
          "scattercarpet": [
           {
            "marker": {
             "colorbar": {
              "outlinewidth": 0,
              "ticks": ""
             }
            },
            "type": "scattercarpet"
           }
          ],
          "scattergeo": [
           {
            "marker": {
             "colorbar": {
              "outlinewidth": 0,
              "ticks": ""
             }
            },
            "type": "scattergeo"
           }
          ],
          "scattergl": [
           {
            "marker": {
             "colorbar": {
              "outlinewidth": 0,
              "ticks": ""
             }
            },
            "type": "scattergl"
           }
          ],
          "scattermapbox": [
           {
            "marker": {
             "colorbar": {
              "outlinewidth": 0,
              "ticks": ""
             }
            },
            "type": "scattermapbox"
           }
          ],
          "scatterpolar": [
           {
            "marker": {
             "colorbar": {
              "outlinewidth": 0,
              "ticks": ""
             }
            },
            "type": "scatterpolar"
           }
          ],
          "scatterpolargl": [
           {
            "marker": {
             "colorbar": {
              "outlinewidth": 0,
              "ticks": ""
             }
            },
            "type": "scatterpolargl"
           }
          ],
          "scatterternary": [
           {
            "marker": {
             "colorbar": {
              "outlinewidth": 0,
              "ticks": ""
             }
            },
            "type": "scatterternary"
           }
          ],
          "surface": [
           {
            "colorbar": {
             "outlinewidth": 0,
             "ticks": ""
            },
            "colorscale": [
             [
              0,
              "#0d0887"
             ],
             [
              0.1111111111111111,
              "#46039f"
             ],
             [
              0.2222222222222222,
              "#7201a8"
             ],
             [
              0.3333333333333333,
              "#9c179e"
             ],
             [
              0.4444444444444444,
              "#bd3786"
             ],
             [
              0.5555555555555556,
              "#d8576b"
             ],
             [
              0.6666666666666666,
              "#ed7953"
             ],
             [
              0.7777777777777778,
              "#fb9f3a"
             ],
             [
              0.8888888888888888,
              "#fdca26"
             ],
             [
              1,
              "#f0f921"
             ]
            ],
            "type": "surface"
           }
          ],
          "table": [
           {
            "cells": {
             "fill": {
              "color": "#EBF0F8"
             },
             "line": {
              "color": "white"
             }
            },
            "header": {
             "fill": {
              "color": "#C8D4E3"
             },
             "line": {
              "color": "white"
             }
            },
            "type": "table"
           }
          ]
         },
         "layout": {
          "annotationdefaults": {
           "arrowcolor": "#2a3f5f",
           "arrowhead": 0,
           "arrowwidth": 1
          },
          "autotypenumbers": "strict",
          "coloraxis": {
           "colorbar": {
            "outlinewidth": 0,
            "ticks": ""
           }
          },
          "colorscale": {
           "diverging": [
            [
             0,
             "#8e0152"
            ],
            [
             0.1,
             "#c51b7d"
            ],
            [
             0.2,
             "#de77ae"
            ],
            [
             0.3,
             "#f1b6da"
            ],
            [
             0.4,
             "#fde0ef"
            ],
            [
             0.5,
             "#f7f7f7"
            ],
            [
             0.6,
             "#e6f5d0"
            ],
            [
             0.7,
             "#b8e186"
            ],
            [
             0.8,
             "#7fbc41"
            ],
            [
             0.9,
             "#4d9221"
            ],
            [
             1,
             "#276419"
            ]
           ],
           "sequential": [
            [
             0,
             "#0d0887"
            ],
            [
             0.1111111111111111,
             "#46039f"
            ],
            [
             0.2222222222222222,
             "#7201a8"
            ],
            [
             0.3333333333333333,
             "#9c179e"
            ],
            [
             0.4444444444444444,
             "#bd3786"
            ],
            [
             0.5555555555555556,
             "#d8576b"
            ],
            [
             0.6666666666666666,
             "#ed7953"
            ],
            [
             0.7777777777777778,
             "#fb9f3a"
            ],
            [
             0.8888888888888888,
             "#fdca26"
            ],
            [
             1,
             "#f0f921"
            ]
           ],
           "sequentialminus": [
            [
             0,
             "#0d0887"
            ],
            [
             0.1111111111111111,
             "#46039f"
            ],
            [
             0.2222222222222222,
             "#7201a8"
            ],
            [
             0.3333333333333333,
             "#9c179e"
            ],
            [
             0.4444444444444444,
             "#bd3786"
            ],
            [
             0.5555555555555556,
             "#d8576b"
            ],
            [
             0.6666666666666666,
             "#ed7953"
            ],
            [
             0.7777777777777778,
             "#fb9f3a"
            ],
            [
             0.8888888888888888,
             "#fdca26"
            ],
            [
             1,
             "#f0f921"
            ]
           ]
          },
          "colorway": [
           "#636efa",
           "#EF553B",
           "#00cc96",
           "#ab63fa",
           "#FFA15A",
           "#19d3f3",
           "#FF6692",
           "#B6E880",
           "#FF97FF",
           "#FECB52"
          ],
          "font": {
           "color": "#2a3f5f"
          },
          "geo": {
           "bgcolor": "white",
           "lakecolor": "white",
           "landcolor": "#E5ECF6",
           "showlakes": true,
           "showland": true,
           "subunitcolor": "white"
          },
          "hoverlabel": {
           "align": "left"
          },
          "hovermode": "closest",
          "mapbox": {
           "style": "light"
          },
          "paper_bgcolor": "white",
          "plot_bgcolor": "#E5ECF6",
          "polar": {
           "angularaxis": {
            "gridcolor": "white",
            "linecolor": "white",
            "ticks": ""
           },
           "bgcolor": "#E5ECF6",
           "radialaxis": {
            "gridcolor": "white",
            "linecolor": "white",
            "ticks": ""
           }
          },
          "scene": {
           "xaxis": {
            "backgroundcolor": "#E5ECF6",
            "gridcolor": "white",
            "gridwidth": 2,
            "linecolor": "white",
            "showbackground": true,
            "ticks": "",
            "zerolinecolor": "white"
           },
           "yaxis": {
            "backgroundcolor": "#E5ECF6",
            "gridcolor": "white",
            "gridwidth": 2,
            "linecolor": "white",
            "showbackground": true,
            "ticks": "",
            "zerolinecolor": "white"
           },
           "zaxis": {
            "backgroundcolor": "#E5ECF6",
            "gridcolor": "white",
            "gridwidth": 2,
            "linecolor": "white",
            "showbackground": true,
            "ticks": "",
            "zerolinecolor": "white"
           }
          },
          "shapedefaults": {
           "line": {
            "color": "#2a3f5f"
           }
          },
          "ternary": {
           "aaxis": {
            "gridcolor": "white",
            "linecolor": "white",
            "ticks": ""
           },
           "baxis": {
            "gridcolor": "white",
            "linecolor": "white",
            "ticks": ""
           },
           "bgcolor": "#E5ECF6",
           "caxis": {
            "gridcolor": "white",
            "linecolor": "white",
            "ticks": ""
           }
          },
          "title": {
           "x": 0.05
          },
          "xaxis": {
           "automargin": true,
           "gridcolor": "white",
           "linecolor": "white",
           "ticks": "",
           "title": {
            "standoff": 15
           },
           "zerolinecolor": "white",
           "zerolinewidth": 2
          },
          "yaxis": {
           "automargin": true,
           "gridcolor": "white",
           "linecolor": "white",
           "ticks": "",
           "title": {
            "standoff": 15
           },
           "zerolinecolor": "white",
           "zerolinewidth": 2
          }
         }
        },
        "title": {
         "text": "Hourly Wage vs Education (1973-2022)"
        },
        "xaxis": {
         "anchor": "y",
         "domain": [
          0,
          1
         ],
         "title": {
          "text": "Years"
         }
        },
        "yaxis": {
         "anchor": "x",
         "domain": [
          0,
          1
         ],
         "title": {
          "text": "Hourly Wage"
         }
        }
       }
      }
     },
     "metadata": {},
     "output_type": "display_data"
    }
   ],
   "source": [
    "\n",
    "fig = px.line(df_ed, x = \"year\", y = df_ed.columns,title = \"Hourly Wage vs Education (1973-2022)\")\n",
    "fig.update_layout(xaxis_title = \"Years\", yaxis_title = \"Hourly Wage\", legend_title = \"Education Level\")\n",
    "fig.show()\n"
   ]
  },
  {
   "cell_type": "code",
   "execution_count": 38,
   "metadata": {},
   "outputs": [
    {
     "data": {
      "text/html": [
       "<div>\n",
       "<style scoped>\n",
       "    .dataframe tbody tr th:only-of-type {\n",
       "        vertical-align: middle;\n",
       "    }\n",
       "\n",
       "    .dataframe tbody tr th {\n",
       "        vertical-align: top;\n",
       "    }\n",
       "\n",
       "    .dataframe thead th {\n",
       "        text-align: right;\n",
       "    }\n",
       "</style>\n",
       "<table border=\"1\" class=\"dataframe\">\n",
       "  <thead>\n",
       "    <tr style=\"text-align: right;\">\n",
       "      <th></th>\n",
       "      <th>year</th>\n",
       "      <th>variable</th>\n",
       "      <th>value</th>\n",
       "    </tr>\n",
       "  </thead>\n",
       "  <tbody>\n",
       "    <tr>\n",
       "      <th>0</th>\n",
       "      <td>2022</td>\n",
       "      <td>white_advanced_degree</td>\n",
       "      <td>53.30</td>\n",
       "    </tr>\n",
       "    <tr>\n",
       "      <th>1</th>\n",
       "      <td>2021</td>\n",
       "      <td>white_advanced_degree</td>\n",
       "      <td>53.62</td>\n",
       "    </tr>\n",
       "    <tr>\n",
       "      <th>2</th>\n",
       "      <td>2020</td>\n",
       "      <td>white_advanced_degree</td>\n",
       "      <td>53.80</td>\n",
       "    </tr>\n",
       "    <tr>\n",
       "      <th>3</th>\n",
       "      <td>2019</td>\n",
       "      <td>white_advanced_degree</td>\n",
       "      <td>51.81</td>\n",
       "    </tr>\n",
       "    <tr>\n",
       "      <th>4</th>\n",
       "      <td>2018</td>\n",
       "      <td>white_advanced_degree</td>\n",
       "      <td>51.80</td>\n",
       "    </tr>\n",
       "  </tbody>\n",
       "</table>\n",
       "</div>"
      ],
      "text/plain": [
       "   year               variable  value\n",
       "0  2022  white_advanced_degree  53.30\n",
       "1  2021  white_advanced_degree  53.62\n",
       "2  2020  white_advanced_degree  53.80\n",
       "3  2019  white_advanced_degree  51.81\n",
       "4  2018  white_advanced_degree  51.80"
      ]
     },
     "execution_count": 38,
     "metadata": {},
     "output_type": "execute_result"
    }
   ],
   "source": [
    "#Only look at last 5 years\n",
    "last_five = df[df['year']>=2018]\n",
    "\n",
    "#Unpivot the dataset only looking at advanced degrees by race\n",
    "df_unpivot = pd.melt(last_five, id_vars='year', value_vars=[\n",
    "    'white_advanced_degree',\n",
    "    'black_advanced_degree',\n",
    "    'hispanic_advanced_degree'])\n",
    "df_unpivot.head()\n"
   ]
  },
  {
   "cell_type": "code",
   "execution_count": 39,
   "metadata": {},
   "outputs": [
    {
     "data": {
      "image/png": "[encoded data removed]",
      "text/plain": [
       "<Figure size 2000x1000 with 1 Axes>"
      ]
     },
     "metadata": {},
     "output_type": "display_data"
    }
   ],
   "source": [
    "#Color of boxplots\n",
    "props = dict(boxes=\"Green\", whiskers=\"Orange\", medians=\"Blue\", caps=\"Gray\")\n",
    "\n",
    "#Create Boxplot\n",
    "df_unpivot.boxplot(\"value\", by=\"variable\", figsize=(20, 10),fontsize=18,color=props,patch_artist=True)\n",
    "\n",
    "#Labels on Boxplot\n",
    "plt.title('Advanced Degree Wages by Race (Last 5 Years)',fontsize=24)\n",
    "plt.suptitle('')\n",
    "plt.ylabel('Hourly Wage',fontsize=18)\n",
    "\n",
    "plt.show()\n"
   ]
  },
  {
   "cell_type": "code",
   "execution_count": 46,
   "metadata": {},
   "outputs": [],
   "source": [
    "# Extract individual groups\n",
    "group0 = df_unpivot[df_unpivot[\"variable\"] == 'black_advanced_degree'][\"value\"]\n",
    "group1 = df_unpivot[df_unpivot[\"variable\"] == 'hispanic_advanced_degree'][\"value\"]\n",
    "group2 = df_unpivot[df_unpivot[\"variable\"] == 'white_advanced_degree'][\"value\"]"
   ]
  },
  {
   "cell_type": "code",
   "execution_count": 47,
   "metadata": {},
   "outputs": [
    {
     "data": {
      "text/plain": [
       "F_onewayResult(statistic=54.807914488255605, pvalue=9.228834322622075e-07)"
      ]
     },
     "execution_count": 47,
     "metadata": {},
     "output_type": "execute_result"
    }
   ],
   "source": [
    "# Perform the ANOVA\n",
    "stats.f_oneway(group0, group1, group2)"
   ]
  },
  {
   "cell_type": "code",
   "execution_count": 50,
   "metadata": {},
   "outputs": [
    {
     "data": {
      "text/plain": [
       "TtestResult(statistic=-3.728801920810109, pvalue=0.005952927663667684, df=7.882551537760143)"
      ]
     },
     "execution_count": 50,
     "metadata": {},
     "output_type": "execute_result"
    }
   ],
   "source": [
    "#Run ttest against black_advanced_degree vs hispanic_advanced_degree\n",
    "stats.ttest_ind(group0, group1, equal_var=False)"
   ]
  },
  {
   "cell_type": "code",
   "execution_count": 22,
   "metadata": {},
   "outputs": [
    {
     "data": {
      "text/html": [
       "<div>\n",
       "<style scoped>\n",
       "    .dataframe tbody tr th:only-of-type {\n",
       "        vertical-align: middle;\n",
       "    }\n",
       "\n",
       "    .dataframe tbody tr th {\n",
       "        vertical-align: top;\n",
       "    }\n",
       "\n",
       "    .dataframe thead th {\n",
       "        text-align: right;\n",
       "    }\n",
       "</style>\n",
       "<table border=\"1\" class=\"dataframe\">\n",
       "  <thead>\n",
       "    <tr style=\"text-align: right;\">\n",
       "      <th></th>\n",
       "      <th>year</th>\n",
       "      <th>variable</th>\n",
       "      <th>value</th>\n",
       "    </tr>\n",
       "  </thead>\n",
       "  <tbody>\n",
       "    <tr>\n",
       "      <th>0</th>\n",
       "      <td>2022</td>\n",
       "      <td>white_bachelors_degree</td>\n",
       "      <td>43.30</td>\n",
       "    </tr>\n",
       "    <tr>\n",
       "      <th>1</th>\n",
       "      <td>2021</td>\n",
       "      <td>white_bachelors_degree</td>\n",
       "      <td>43.06</td>\n",
       "    </tr>\n",
       "    <tr>\n",
       "      <th>2</th>\n",
       "      <td>2020</td>\n",
       "      <td>white_bachelors_degree</td>\n",
       "      <td>43.16</td>\n",
       "    </tr>\n",
       "    <tr>\n",
       "      <th>3</th>\n",
       "      <td>2019</td>\n",
       "      <td>white_bachelors_degree</td>\n",
       "      <td>41.06</td>\n",
       "    </tr>\n",
       "    <tr>\n",
       "      <th>4</th>\n",
       "      <td>2018</td>\n",
       "      <td>white_bachelors_degree</td>\n",
       "      <td>40.49</td>\n",
       "    </tr>\n",
       "  </tbody>\n",
       "</table>\n",
       "</div>"
      ],
      "text/plain": [
       "   year                variable  value\n",
       "0  2022  white_bachelors_degree  43.30\n",
       "1  2021  white_bachelors_degree  43.06\n",
       "2  2020  white_bachelors_degree  43.16\n",
       "3  2019  white_bachelors_degree  41.06\n",
       "4  2018  white_bachelors_degree  40.49"
      ]
     },
     "execution_count": 22,
     "metadata": {},
     "output_type": "execute_result"
    }
   ],
   "source": [
    "#Unpivot the dataset looking at bachelors degree by race\n",
    "df_unpivot_bachelors = pd.melt(last_five, id_vars='year', value_vars=[\n",
    "    'white_bachelors_degree',\n",
    "    'black_bachelors_degree',\n",
    "    'hispanic_bachelors_degree'])\n",
    "df_unpivot_bachelors.head()"
   ]
  },
  {
   "cell_type": "code",
   "execution_count": 23,
   "metadata": {},
   "outputs": [
    {
     "data": {
      "image/png": "[encoded data removed]",
      "text/plain": [
       "<Figure size 2000x1000 with 1 Axes>"
      ]
     },
     "metadata": {},
     "output_type": "display_data"
    }
   ],
   "source": [
    "#Color of boxplots\n",
    "props = dict(boxes=\"Green\", whiskers=\"Orange\", medians=\"Blue\", caps=\"Gray\")\n",
    "\n",
    "#Create Boxplot\n",
    "df_unpivot_bachelors.boxplot(\"value\", by=\"variable\", figsize=(20, 10),fontsize=18,color=props,patch_artist=True)\n",
    "\n",
    "#Labels on Boxplot\n",
    "plt.title('Bachelors Degree Wages by Race (Last 5 Years)',fontsize=24)\n",
    "plt.suptitle('')\n",
    "plt.ylabel('Hourly Wage',fontsize=18)\n",
    "\n",
    "plt.show()"
   ]
  },
  {
   "cell_type": "code",
   "execution_count": 48,
   "metadata": {},
   "outputs": [],
   "source": [
    "# Extract individual groups\n",
    "group3 = df_unpivot_bachelors[df_unpivot_bachelors[\"variable\"] == 'black_bachelors_degree'][\"value\"]\n",
    "group4 = df_unpivot_bachelors[df_unpivot_bachelors[\"variable\"] == 'hispanic_bachelors_degree'][\"value\"]\n",
    "group5 = df_unpivot_bachelors[df_unpivot_bachelors[\"variable\"] == 'white_bachelors_degree'][\"value\"]"
   ]
  },
  {
   "cell_type": "code",
   "execution_count": 49,
   "metadata": {},
   "outputs": [
    {
     "data": {
      "text/plain": [
       "F_onewayResult(statistic=95.56789221022925, pvalue=4.2498036311925216e-08)"
      ]
     },
     "execution_count": 49,
     "metadata": {},
     "output_type": "execute_result"
    }
   ],
   "source": [
    "# Perform the ANOVA\n",
    "stats.f_oneway(group3, group4, group5)"
   ]
  },
  {
   "cell_type": "code",
   "execution_count": 51,
   "metadata": {},
   "outputs": [
    {
     "data": {
      "text/plain": [
       "TtestResult(statistic=-3.6427703022503017, pvalue=0.008212161852051522, df=7.021897118762298)"
      ]
     },
     "execution_count": 51,
     "metadata": {},
     "output_type": "execute_result"
    }
   ],
   "source": [
    "#Run ttest against black_bachelors_degree vs hispanic_bachelors_degree\n",
    "stats.ttest_ind(group3, group4, equal_var=False)"
   ]
  }
 ],
 "metadata": {
  "kernelspec": {
   "display_name": "Python 3",
   "language": "python",
   "name": "python3"
  },
  "language_info": {
   "codemirror_mode": {
    "name": "ipython",
    "version": 3
   },
   "file_extension": ".py",
   "mimetype": "text/x-python",
   "name": "python",
   "nbconvert_exporter": "python",
   "pygments_lexer": "ipython3",
   "version": "3.11.7"
  }
 },
 "nbformat": 4,
 "nbformat_minor": 2
}
